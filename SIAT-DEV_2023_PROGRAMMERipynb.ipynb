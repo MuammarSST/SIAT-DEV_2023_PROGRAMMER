{
 "cells": [
  {
   "cell_type": "code",
   "execution_count": 42,
   "metadata": {},
   "outputs": [
    {
     "name": "stdout",
     "output_type": "stream",
     "text": [
      "Requirement already satisfied: wget in c:\\users\\amar\\appdata\\local\\packages\\pythonsoftwarefoundation.python.3.7_qbz5n2kfra8p0\\localcache\\local-packages\\python37\\site-packages (3.2)\n",
      "Note: you may need to restart the kernel to use updated packages.\n"
     ]
    }
   ],
   "source": [
    "%pip install wget"
   ]
  },
  {
   "cell_type": "code",
   "execution_count": 5,
   "metadata": {},
   "outputs": [],
   "source": [
    "import wget"
   ]
  },
  {
   "cell_type": "code",
   "execution_count": 15,
   "metadata": {},
   "outputs": [],
   "source": [
    "url_diskominsa='http://datalatih.siat.web.id/dataset/db60d150-d04b-4f73-89b3-fcea882d398e/resource/4cfd8746-a840-4ff0-9227-349ddb912cee/download/data-sekolah-kab-pidie-jaya-sm-genap-2022.csv'"
   ]
  },
  {
   "cell_type": "code",
   "execution_count": 16,
   "metadata": {},
   "outputs": [],
   "source": [
    "data_kominsa=wget.download(url_diskominsa)"
   ]
  },
  {
   "cell_type": "code",
   "execution_count": 17,
   "metadata": {},
   "outputs": [
    {
     "data": {
      "text/plain": [
       "'data-sekolah-kab-pidie-jaya-sm-genap-2022.csv'"
      ]
     },
     "execution_count": 17,
     "metadata": {},
     "output_type": "execute_result"
    }
   ],
   "source": [
    "data_kominsa"
   ]
  },
  {
   "cell_type": "code",
   "execution_count": 27,
   "metadata": {},
   "outputs": [
    {
     "data": {
      "text/plain": [
       "b'{\"help\": \"http://datalatih.siat.web.id/api/3/action/help_show?name=datastore_search\", \"success\": true, \"result\": {\"include_total\": true, \"resource_id\": \"4cfd8746-a840-4ff0-9227-349ddb912cee\", \"fields\": [{\"type\": \"int\", \"id\": \"_id\"}, {\"type\": \"text\", \"id\": \"kecamatan\"}, {\"type\": \"numeric\", \"id\": \"tk_total\"}, {\"type\": \"numeric\", \"id\": \"tk_negeri\"}, {\"type\": \"numeric\", \"id\": \"tk_swasta\"}, {\"type\": \"numeric\", \"id\": \"kb_total\"}, {\"type\": \"numeric\", \"id\": \"kb_negeri\"}, {\"type\": \"numeric\", \"id\": \"kb_swasta\"}, {\"type\": \"numeric\", \"id\": \"tpa_total\"}, {\"type\": \"numeric\", \"id\": \"tpa_negeri\"}, {\"type\": \"numeric\", \"id\": \"tpa_swasta\"}, {\"type\": \"numeric\", \"id\": \"sps_total\"}, {\"type\": \"numeric\", \"id\": \"sps_negeri\"}, {\"type\": \"numeric\", \"id\": \"sps_swasta\"}, {\"type\": \"numeric\", \"id\": \"pkbm_total\"}, {\"type\": \"numeric\", \"id\": \"pkbm_negeri\"}, {\"type\": \"numeric\", \"id\": \"pkbm_swasta\"}, {\"type\": \"numeric\", \"id\": \"skb_total\"}, {\"type\": \"numeric\", \"id\": \"skb_negeri\"}, {\"type\": \"numeric\", \"id\": \"skb_swasta\"}, {\"type\": \"numeric\", \"id\": \"sd_total\"}, {\"type\": \"numeric\", \"id\": \"sd_negeri\"}, {\"type\": \"numeric\", \"id\": \"sd_swasta\"}, {\"type\": \"numeric\", \"id\": \"smp_total\"}, {\"type\": \"numeric\", \"id\": \"smp_negeri\"}, {\"type\": \"numeric\", \"id\": \"smp_swasta\"}, {\"type\": \"numeric\", \"id\": \"sma_total\"}, {\"type\": \"numeric\", \"id\": \"sma_negeri\"}, {\"type\": \"numeric\", \"id\": \"sma_swasta\"}, {\"type\": \"numeric\", \"id\": \"smk_total\"}, {\"type\": \"numeric\", \"id\": \"smk_negeri\"}, {\"type\": \"numeric\", \"id\": \"smk_swasta\"}, {\"type\": \"numeric\", \"id\": \"slb_total\"}, {\"type\": \"numeric\", \"id\": \"slb_negeri\"}, {\"type\": \"numeric\", \"id\": \"slb_swasta\"}], \"records_format\": \"objects\", \"q\": \"title:jones\", \"records\": [], \"limit\": 5, \"_links\": {\"start\": \"/api/3/action/datastore_search?q=title%3Ajones&limit=5&resource_id=4cfd8746-a840-4ff0-9227-349ddb912cee\", \"next\": \"/api/3/action/datastore_search?q=title%3Ajones&offset=5&limit=5&resource_id=4cfd8746-a840-4ff0-9227-349ddb912cee\"}, \"total\": 0}}'"
      ]
     },
     "execution_count": 27,
     "metadata": {},
     "output_type": "execute_result"
    }
   ],
   "source": [
    "from urllib.request import urlopen\n",
    "url = 'http://datalatih.siat.web.id/api/3/action/datastore_search?resource_id=4cfd8746-a840-4ff0-9227-349ddb912cee&limit=5&q=title:jones'  \n",
    "data = urlopen(url).read()\n",
    "data"
   ]
  },
  {
   "cell_type": "code",
   "execution_count": 33,
   "metadata": {},
   "outputs": [],
   "source": [
    "import pandas as pd\n"
   ]
  },
  {
   "cell_type": "code",
   "execution_count": 34,
   "metadata": {},
   "outputs": [
    {
     "data": {
      "text/html": [
       "<div>\n",
       "<style scoped>\n",
       "    .dataframe tbody tr th:only-of-type {\n",
       "        vertical-align: middle;\n",
       "    }\n",
       "\n",
       "    .dataframe tbody tr th {\n",
       "        vertical-align: top;\n",
       "    }\n",
       "\n",
       "    .dataframe thead th {\n",
       "        text-align: right;\n",
       "    }\n",
       "</style>\n",
       "<table border=\"1\" class=\"dataframe\">\n",
       "  <thead>\n",
       "    <tr style=\"text-align: right;\">\n",
       "      <th></th>\n",
       "      <th>help</th>\n",
       "      <th>success</th>\n",
       "      <th>result</th>\n",
       "    </tr>\n",
       "  </thead>\n",
       "  <tbody>\n",
       "    <tr>\n",
       "      <th>_links</th>\n",
       "      <td>http://datalatih.siat.web.id/api/3/action/help...</td>\n",
       "      <td>True</td>\n",
       "      <td>{'start': '/api/3/action/datastore_search?q=ti...</td>\n",
       "    </tr>\n",
       "    <tr>\n",
       "      <th>fields</th>\n",
       "      <td>http://datalatih.siat.web.id/api/3/action/help...</td>\n",
       "      <td>True</td>\n",
       "      <td>[{'type': 'int', 'id': '_id'}, {'type': 'text'...</td>\n",
       "    </tr>\n",
       "    <tr>\n",
       "      <th>include_total</th>\n",
       "      <td>http://datalatih.siat.web.id/api/3/action/help...</td>\n",
       "      <td>True</td>\n",
       "      <td>True</td>\n",
       "    </tr>\n",
       "    <tr>\n",
       "      <th>limit</th>\n",
       "      <td>http://datalatih.siat.web.id/api/3/action/help...</td>\n",
       "      <td>True</td>\n",
       "      <td>5</td>\n",
       "    </tr>\n",
       "    <tr>\n",
       "      <th>q</th>\n",
       "      <td>http://datalatih.siat.web.id/api/3/action/help...</td>\n",
       "      <td>True</td>\n",
       "      <td>title:jones</td>\n",
       "    </tr>\n",
       "    <tr>\n",
       "      <th>records</th>\n",
       "      <td>http://datalatih.siat.web.id/api/3/action/help...</td>\n",
       "      <td>True</td>\n",
       "      <td>[]</td>\n",
       "    </tr>\n",
       "    <tr>\n",
       "      <th>records_format</th>\n",
       "      <td>http://datalatih.siat.web.id/api/3/action/help...</td>\n",
       "      <td>True</td>\n",
       "      <td>objects</td>\n",
       "    </tr>\n",
       "    <tr>\n",
       "      <th>resource_id</th>\n",
       "      <td>http://datalatih.siat.web.id/api/3/action/help...</td>\n",
       "      <td>True</td>\n",
       "      <td>4cfd8746-a840-4ff0-9227-349ddb912cee</td>\n",
       "    </tr>\n",
       "    <tr>\n",
       "      <th>total</th>\n",
       "      <td>http://datalatih.siat.web.id/api/3/action/help...</td>\n",
       "      <td>True</td>\n",
       "      <td>0</td>\n",
       "    </tr>\n",
       "  </tbody>\n",
       "</table>\n",
       "</div>"
      ],
      "text/plain": [
       "                                                             help  success  \\\n",
       "_links          http://datalatih.siat.web.id/api/3/action/help...     True   \n",
       "fields          http://datalatih.siat.web.id/api/3/action/help...     True   \n",
       "include_total   http://datalatih.siat.web.id/api/3/action/help...     True   \n",
       "limit           http://datalatih.siat.web.id/api/3/action/help...     True   \n",
       "q               http://datalatih.siat.web.id/api/3/action/help...     True   \n",
       "records         http://datalatih.siat.web.id/api/3/action/help...     True   \n",
       "records_format  http://datalatih.siat.web.id/api/3/action/help...     True   \n",
       "resource_id     http://datalatih.siat.web.id/api/3/action/help...     True   \n",
       "total           http://datalatih.siat.web.id/api/3/action/help...     True   \n",
       "\n",
       "                                                           result  \n",
       "_links          {'start': '/api/3/action/datastore_search?q=ti...  \n",
       "fields          [{'type': 'int', 'id': '_id'}, {'type': 'text'...  \n",
       "include_total                                                True  \n",
       "limit                                                           5  \n",
       "q                                                     title:jones  \n",
       "records                                                        []  \n",
       "records_format                                            objects  \n",
       "resource_id                  4cfd8746-a840-4ff0-9227-349ddb912cee  \n",
       "total                                                           0  "
      ]
     },
     "execution_count": 34,
     "metadata": {},
     "output_type": "execute_result"
    }
   ],
   "source": [
    "df=pd.read_json(data)\n",
    "df"
   ]
  },
  {
   "cell_type": "code",
   "execution_count": 38,
   "metadata": {},
   "outputs": [],
   "source": [
    "url= 'http://datalatih.siat.web.id/dataset/c85e81d5-0620-434a-9d79-9eb874d636fa/resource/1f7f56e6-3a7c-4d4c-b3e3-427773f12aea/download/berita.csv'"
   ]
  },
  {
   "cell_type": "code",
   "execution_count": 39,
   "metadata": {},
   "outputs": [],
   "source": [
    "berita=wget.download(url)"
   ]
  },
  {
   "cell_type": "code",
   "execution_count": 40,
   "metadata": {},
   "outputs": [
    {
     "data": {
      "text/html": [
       "<div>\n",
       "<style scoped>\n",
       "    .dataframe tbody tr th:only-of-type {\n",
       "        vertical-align: middle;\n",
       "    }\n",
       "\n",
       "    .dataframe tbody tr th {\n",
       "        vertical-align: top;\n",
       "    }\n",
       "\n",
       "    .dataframe thead th {\n",
       "        text-align: right;\n",
       "    }\n",
       "</style>\n",
       "<table border=\"1\" class=\"dataframe\">\n",
       "  <thead>\n",
       "    <tr style=\"text-align: right;\">\n",
       "      <th></th>\n",
       "      <th>tgl_publish</th>\n",
       "      <th>judul</th>\n",
       "      <th>link</th>\n",
       "    </tr>\n",
       "  </thead>\n",
       "  <tbody>\n",
       "    <tr>\n",
       "      <th>0</th>\n",
       "      <td>2016-02-01 18:54:00</td>\n",
       "      <td>Banleg DPRA Gelar Rapat Penyusunan Prolega 2016</td>\n",
       "      <td>https://infopublik.id/kategori/nusantara/14366...</td>\n",
       "    </tr>\n",
       "    <tr>\n",
       "      <th>1</th>\n",
       "      <td>2016-02-01 19:08:00</td>\n",
       "      <td>Gubernur Aceh: KAHMI Harus Terlibat Aktif Memb...</td>\n",
       "      <td>https://infopublik.id/kategori/nusantara/14439...</td>\n",
       "    </tr>\n",
       "    <tr>\n",
       "      <th>2</th>\n",
       "      <td>2016-02-26 10:35:00</td>\n",
       "      <td>Pemerintah Aceh Tingkatkan Pelestarian Kebuday...</td>\n",
       "      <td>https://infopublik.id/kategori/nusantara/14667...</td>\n",
       "    </tr>\n",
       "    <tr>\n",
       "      <th>3</th>\n",
       "      <td>2016-02-26 16:00:00</td>\n",
       "      <td>Meski Meningkat, Uang Perjalanan Dinas, Tetap ...</td>\n",
       "      <td>https://infopublik.id/kategori/nusantara/14668...</td>\n",
       "    </tr>\n",
       "    <tr>\n",
       "      <th>4</th>\n",
       "      <td>2016-02-27 06:15:00</td>\n",
       "      <td>Wakil Gubernur Aceh Imbau Pemuda dan Mahasiswa...</td>\n",
       "      <td>https://infopublik.id/kategori/nusantara/14677...</td>\n",
       "    </tr>\n",
       "    <tr>\n",
       "      <th>...</th>\n",
       "      <td>...</td>\n",
       "      <td>...</td>\n",
       "      <td>...</td>\n",
       "    </tr>\n",
       "    <tr>\n",
       "      <th>9106</th>\n",
       "      <td>2022-12-23 16:02:00</td>\n",
       "      <td>ARC USK Peringati Milad ke-6 dengan Awards dan...</td>\n",
       "      <td>https://infopublik.id/kategori/nusantara/69711...</td>\n",
       "    </tr>\n",
       "    <tr>\n",
       "      <th>9107</th>\n",
       "      <td>2022-12-23 16:17:00</td>\n",
       "      <td>19 Kabupaten/Kota di Aceh Masuk Zona Hijau</td>\n",
       "      <td>https://infopublik.id/kategori/nusantara/69712...</td>\n",
       "    </tr>\n",
       "    <tr>\n",
       "      <th>9108</th>\n",
       "      <td>2022-12-23 16:37:00</td>\n",
       "      <td>Batik Air Resmi Terbang Perdana Banda Aceh-Penang</td>\n",
       "      <td>https://infopublik.id/kategori/nusantara/69713...</td>\n",
       "    </tr>\n",
       "    <tr>\n",
       "      <th>9109</th>\n",
       "      <td>2022-12-23 22:00:00</td>\n",
       "      <td>MPU Aceh Keluarkan Imbauan Peringati Tsunami d...</td>\n",
       "      <td>https://infopublik.id/kategori/nusantara/69721...</td>\n",
       "    </tr>\n",
       "    <tr>\n",
       "      <th>9110</th>\n",
       "      <td>2022-12-23 22:06:00</td>\n",
       "      <td>Syukuran HUT ke-66 Kodam IM, Hari Ibu, HUT ke-...</td>\n",
       "      <td>https://infopublik.id/kategori/nusantara/69721...</td>\n",
       "    </tr>\n",
       "  </tbody>\n",
       "</table>\n",
       "<p>9111 rows × 3 columns</p>\n",
       "</div>"
      ],
      "text/plain": [
       "              tgl_publish                                              judul  \\\n",
       "0     2016-02-01 18:54:00    Banleg DPRA Gelar Rapat Penyusunan Prolega 2016   \n",
       "1     2016-02-01 19:08:00  Gubernur Aceh: KAHMI Harus Terlibat Aktif Memb...   \n",
       "2     2016-02-26 10:35:00  Pemerintah Aceh Tingkatkan Pelestarian Kebuday...   \n",
       "3     2016-02-26 16:00:00  Meski Meningkat, Uang Perjalanan Dinas, Tetap ...   \n",
       "4     2016-02-27 06:15:00  Wakil Gubernur Aceh Imbau Pemuda dan Mahasiswa...   \n",
       "...                   ...                                                ...   \n",
       "9106  2022-12-23 16:02:00  ARC USK Peringati Milad ke-6 dengan Awards dan...   \n",
       "9107  2022-12-23 16:17:00         19 Kabupaten/Kota di Aceh Masuk Zona Hijau   \n",
       "9108  2022-12-23 16:37:00  Batik Air Resmi Terbang Perdana Banda Aceh-Penang   \n",
       "9109  2022-12-23 22:00:00  MPU Aceh Keluarkan Imbauan Peringati Tsunami d...   \n",
       "9110  2022-12-23 22:06:00  Syukuran HUT ke-66 Kodam IM, Hari Ibu, HUT ke-...   \n",
       "\n",
       "                                                   link  \n",
       "0     https://infopublik.id/kategori/nusantara/14366...  \n",
       "1     https://infopublik.id/kategori/nusantara/14439...  \n",
       "2     https://infopublik.id/kategori/nusantara/14667...  \n",
       "3     https://infopublik.id/kategori/nusantara/14668...  \n",
       "4     https://infopublik.id/kategori/nusantara/14677...  \n",
       "...                                                 ...  \n",
       "9106  https://infopublik.id/kategori/nusantara/69711...  \n",
       "9107  https://infopublik.id/kategori/nusantara/69712...  \n",
       "9108  https://infopublik.id/kategori/nusantara/69713...  \n",
       "9109  https://infopublik.id/kategori/nusantara/69721...  \n",
       "9110  https://infopublik.id/kategori/nusantara/69721...  \n",
       "\n",
       "[9111 rows x 3 columns]"
      ]
     },
     "execution_count": 40,
     "metadata": {},
     "output_type": "execute_result"
    }
   ],
   "source": [
    "df_berita=pd.read_csv(berita)\n",
    "df_berita"
   ]
  },
  {
   "cell_type": "code",
   "execution_count": 12,
   "metadata": {},
   "outputs": [],
   "source": [
    "url_jumlah_berita ='http://datalatih.siat.web.id/dataset/c85e81d5-0620-434a-9d79-9eb874d636fa/resource/a5450b36-bfc1-4af1-a7d7-daddd5b585f3/download/jml_berita.csv'"
   ]
  },
  {
   "cell_type": "code",
   "execution_count": 13,
   "metadata": {},
   "outputs": [],
   "source": [
    "jumlah_berita=wget.download(url_jumlah_berita)"
   ]
  },
  {
   "cell_type": "code",
   "execution_count": 41,
   "metadata": {},
   "outputs": [
    {
     "data": {
      "text/html": [
       "<div>\n",
       "<style scoped>\n",
       "    .dataframe tbody tr th:only-of-type {\n",
       "        vertical-align: middle;\n",
       "    }\n",
       "\n",
       "    .dataframe tbody tr th {\n",
       "        vertical-align: top;\n",
       "    }\n",
       "\n",
       "    .dataframe thead th {\n",
       "        text-align: right;\n",
       "    }\n",
       "</style>\n",
       "<table border=\"1\" class=\"dataframe\">\n",
       "  <thead>\n",
       "    <tr style=\"text-align: right;\">\n",
       "      <th></th>\n",
       "      <th>tgl_publish</th>\n",
       "      <th>jml_judul</th>\n",
       "    </tr>\n",
       "  </thead>\n",
       "  <tbody>\n",
       "    <tr>\n",
       "      <th>0</th>\n",
       "      <td>2016-02-01</td>\n",
       "      <td>2</td>\n",
       "    </tr>\n",
       "    <tr>\n",
       "      <th>1</th>\n",
       "      <td>2016-02-26</td>\n",
       "      <td>2</td>\n",
       "    </tr>\n",
       "    <tr>\n",
       "      <th>2</th>\n",
       "      <td>2016-02-27</td>\n",
       "      <td>1</td>\n",
       "    </tr>\n",
       "    <tr>\n",
       "      <th>3</th>\n",
       "      <td>2016-02-29</td>\n",
       "      <td>1</td>\n",
       "    </tr>\n",
       "    <tr>\n",
       "      <th>4</th>\n",
       "      <td>2016-03-01</td>\n",
       "      <td>3</td>\n",
       "    </tr>\n",
       "    <tr>\n",
       "      <th>...</th>\n",
       "      <td>...</td>\n",
       "      <td>...</td>\n",
       "    </tr>\n",
       "    <tr>\n",
       "      <th>1162</th>\n",
       "      <td>2022-12-19</td>\n",
       "      <td>9</td>\n",
       "    </tr>\n",
       "    <tr>\n",
       "      <th>1163</th>\n",
       "      <td>2022-12-20</td>\n",
       "      <td>14</td>\n",
       "    </tr>\n",
       "    <tr>\n",
       "      <th>1164</th>\n",
       "      <td>2022-12-21</td>\n",
       "      <td>29</td>\n",
       "    </tr>\n",
       "    <tr>\n",
       "      <th>1165</th>\n",
       "      <td>2022-12-22</td>\n",
       "      <td>17</td>\n",
       "    </tr>\n",
       "    <tr>\n",
       "      <th>1166</th>\n",
       "      <td>2022-12-23</td>\n",
       "      <td>14</td>\n",
       "    </tr>\n",
       "  </tbody>\n",
       "</table>\n",
       "<p>1167 rows × 2 columns</p>\n",
       "</div>"
      ],
      "text/plain": [
       "     tgl_publish  jml_judul\n",
       "0     2016-02-01          2\n",
       "1     2016-02-26          2\n",
       "2     2016-02-27          1\n",
       "3     2016-02-29          1\n",
       "4     2016-03-01          3\n",
       "...          ...        ...\n",
       "1162  2022-12-19          9\n",
       "1163  2022-12-20         14\n",
       "1164  2022-12-21         29\n",
       "1165  2022-12-22         17\n",
       "1166  2022-12-23         14\n",
       "\n",
       "[1167 rows x 2 columns]"
      ]
     },
     "execution_count": 41,
     "metadata": {},
     "output_type": "execute_result"
    }
   ],
   "source": [
    "df_jumlah_berita=pd.read_csv(jumlah_berita)\n",
    "df_jumlah_berita"
   ]
  }
 ],
 "metadata": {
  "kernelspec": {
   "display_name": "Python 3",
   "language": "python",
   "name": "python3"
  },
  "language_info": {
   "codemirror_mode": {
    "name": "ipython",
    "version": 3
   },
   "file_extension": ".py",
   "mimetype": "text/x-python",
   "name": "python",
   "nbconvert_exporter": "python",
   "pygments_lexer": "ipython3",
   "version": "3.7.9"
  },
  "orig_nbformat": 4,
  "vscode": {
   "interpreter": {
    "hash": "45a851a8e049304e8d8fc9276f397ed5699faa42a654317800ed71714fc34a6c"
   }
  }
 },
 "nbformat": 4,
 "nbformat_minor": 2
}
